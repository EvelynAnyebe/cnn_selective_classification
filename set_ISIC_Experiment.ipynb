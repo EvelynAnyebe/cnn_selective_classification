{
 "cells": [
  {
   "cell_type": "markdown",
   "metadata": {},
   "source": [
    "## PREPARE ISIC DIRECTORY FOR TRANING AND VALIDATION"
   ]
  },
  {
   "cell_type": "code",
   "execution_count": 2,
   "metadata": {},
   "outputs": [],
   "source": [
    "import os\n",
    "import pandas as pd\n",
    "import numpy as np\n",
    "import matplotlib.pyplot as plt\n",
    "import pathlib\n",
    "import shutil"
   ]
  },
  {
   "cell_type": "code",
   "execution_count": 3,
   "metadata": {},
   "outputs": [
    {
     "data": {
      "text/html": [
       "<div>\n",
       "<style scoped>\n",
       "    .dataframe tbody tr th:only-of-type {\n",
       "        vertical-align: middle;\n",
       "    }\n",
       "\n",
       "    .dataframe tbody tr th {\n",
       "        vertical-align: top;\n",
       "    }\n",
       "\n",
       "    .dataframe thead th {\n",
       "        text-align: right;\n",
       "    }\n",
       "</style>\n",
       "<table border=\"1\" class=\"dataframe\">\n",
       "  <thead>\n",
       "    <tr style=\"text-align: right;\">\n",
       "      <th></th>\n",
       "      <th>image</th>\n",
       "      <th>MEL</th>\n",
       "      <th>NV</th>\n",
       "      <th>BCC</th>\n",
       "      <th>AK</th>\n",
       "      <th>BKL</th>\n",
       "      <th>DF</th>\n",
       "      <th>VASC</th>\n",
       "      <th>SCC</th>\n",
       "      <th>UNK</th>\n",
       "      <th>image_class</th>\n",
       "      <th>class_type</th>\n",
       "    </tr>\n",
       "  </thead>\n",
       "  <tbody>\n",
       "    <tr>\n",
       "      <th>0</th>\n",
       "      <td>ISIC_0000000</td>\n",
       "      <td>0.0</td>\n",
       "      <td>1.0</td>\n",
       "      <td>0.0</td>\n",
       "      <td>0.0</td>\n",
       "      <td>0.0</td>\n",
       "      <td>0.0</td>\n",
       "      <td>0.0</td>\n",
       "      <td>0.0</td>\n",
       "      <td>0.0</td>\n",
       "      <td>NV</td>\n",
       "      <td>Benign</td>\n",
       "    </tr>\n",
       "    <tr>\n",
       "      <th>1</th>\n",
       "      <td>ISIC_0000001</td>\n",
       "      <td>0.0</td>\n",
       "      <td>1.0</td>\n",
       "      <td>0.0</td>\n",
       "      <td>0.0</td>\n",
       "      <td>0.0</td>\n",
       "      <td>0.0</td>\n",
       "      <td>0.0</td>\n",
       "      <td>0.0</td>\n",
       "      <td>0.0</td>\n",
       "      <td>NV</td>\n",
       "      <td>Benign</td>\n",
       "    </tr>\n",
       "  </tbody>\n",
       "</table>\n",
       "</div>"
      ],
      "text/plain": [
       "          image  MEL   NV  BCC   AK  BKL   DF  VASC  SCC  UNK image_class  \\\n",
       "0  ISIC_0000000  0.0  1.0  0.0  0.0  0.0  0.0   0.0  0.0  0.0          NV   \n",
       "1  ISIC_0000001  0.0  1.0  0.0  0.0  0.0  0.0   0.0  0.0  0.0          NV   \n",
       "\n",
       "  class_type  \n",
       "0     Benign  \n",
       "1     Benign  "
      ]
     },
     "execution_count": 3,
     "metadata": {},
     "output_type": "execute_result"
    }
   ],
   "source": [
    "#Load ground truth CSV\n",
    "gt_df=pd.read_csv('.keras/datasets/ISIC_GT_With_Class_Type.csv')\n",
    "gt_df.head(2)"
   ]
  },
  {
   "cell_type": "markdown",
   "metadata": {},
   "source": [
    "### Create Directory and Sub-Directory"
   ]
  },
  {
   "cell_type": "code",
   "execution_count": 4,
   "metadata": {},
   "outputs": [],
   "source": [
    "# make directories if it doesn't exist\n",
    "def make_folder(dirname):\n",
    "        dirname=os.path.join(os.getcwd(),dirname)\n",
    "        os.makedirs(dirname) if(os.path.isdir(dirname)==False) else print(dirname+' exist')"
   ]
  },
  {
   "cell_type": "code",
   "execution_count": 4,
   "metadata": {},
   "outputs": [],
   "source": [
    "#delete images\n",
    "#shutil.rmtree(\".keras/datasets/isic_2019/\") \n",
    "\n",
    "# make_folder('.keras/datasets/isic_2019/train') #isic_2019/train\n",
    "# make_folder('.keras/datasets/isic_2019/validation') #isic_2019/validation\n",
    "# make_folder('.keras/datasets/isic_2019/test') #isic_2019/test"
   ]
  },
  {
   "cell_type": "code",
   "execution_count": 5,
   "metadata": {},
   "outputs": [
    {
     "name": "stdout",
     "output_type": "stream",
     "text": [
      "/home/evelynanyebe/.keras/datasets/isic_2019/train/Benign exist\n",
      "/home/evelynanyebe/.keras/datasets/isic_2019/train/Malignant exist\n",
      "/home/evelynanyebe/.keras/datasets/isic_2019/validation/Benign exist\n",
      "/home/evelynanyebe/.keras/datasets/isic_2019/validation/Malignant exist\n",
      "/home/evelynanyebe/.keras/datasets/isic_2019/test/Benign exist\n",
      "/home/evelynanyebe/.keras/datasets/isic_2019/test/Malignant exist\n",
      "/home/evelynanyebe/.keras/datasets/isic_2019/test/Unknown exist\n"
     ]
    }
   ],
   "source": [
    "# Create Class type sub-directory\n",
    "make_folder('.keras/datasets/isic_2019/train/Benign') #isic_2019/train\n",
    "make_folder('.keras/datasets/isic_2019/train/Malignant') #isic_2019/train\n",
    "\n",
    "make_folder('.keras/datasets/isic_2019/validation/Benign') #isic_2019/validation\n",
    "make_folder('.keras/datasets/isic_2019/validation/Malignant') #isic_2019/validation\n",
    "\n",
    "make_folder('.keras/datasets/isic_2019/test/Benign') #isic_2019/test\n",
    "make_folder('.keras/datasets/isic_2019/test/Malignant') #isic_2019/test\n",
    "make_folder('.keras/datasets/isic_2019/test/Unknown') #isic_2019/test\n",
    "\n",
    "class_names=['Benign','Malignant','Unknown']"
   ]
  },
  {
   "cell_type": "code",
   "execution_count": 6,
   "metadata": {},
   "outputs": [],
   "source": [
    "# function to Copy images \n",
    "def copy_images(src_dir,dest_dir,filenames,overwrite_flag=True):\n",
    "    num_copied=0\n",
    "    for filename in filenames:\n",
    "        src_file_path = os.path.join(src_dir,filename)\n",
    "        dest_file_path=os.path.join(dest_dir,filename)\n",
    "        if(os.path.isfile(src_file_path)): \n",
    "            # Check if file exist in destination to overwrite or not overwrite\n",
    "            if(os.path.isfile(dest_file_path) & overwrite_flag):\n",
    "                shutil.copy(src_file_path,dest_dir)\n",
    "                num_copied +=1\n",
    "            elif(~os.path.isfile(dest_file_path)):\n",
    "                shutil.copy(src_file_path,dest_dir)\n",
    "                num_copied +=1\n",
    "        else: \n",
    "            print('{} does not exist'.format(filename))\n",
    "    return(num_copied)            \n",
    "\n",
    "def join_image_ext(images):\n",
    "    return [x+\".jpg\" for x in images]"
   ]
  },
  {
   "cell_type": "code",
   "execution_count": 7,
   "metadata": {},
   "outputs": [
    {
     "name": "stdout",
     "output_type": "stream",
     "text": [
      "[8473, 12875, 3983]\n"
     ]
    }
   ],
   "source": [
    "src_dir=\".keras/datasets/ISIC_2019_Training_Input\"\n",
    "dest_dir=\".keras/datasets/isic_2019\"\n",
    "\n",
    "#Seperate images into class types\n",
    "malignant=join_image_ext(gt_df.loc[gt_df['class_type']==\"Malignant\",'image'].to_numpy())\n",
    "benign=join_image_ext(gt_df.loc[gt_df['class_type']==\"Benign\",'image'].to_numpy())\n",
    "unknown=join_image_ext(gt_df.loc[gt_df['class_type']==\"Unknown\",'image'].to_numpy())\n",
    "\n",
    "print([len(malignant),len(benign),len(unknown)])"
   ]
  },
  {
   "cell_type": "code",
   "execution_count": 8,
   "metadata": {},
   "outputs": [
    {
     "data": {
      "text/plain": [
       "array([0, 1, 2, 3, 4])"
      ]
     },
     "execution_count": 8,
     "metadata": {},
     "output_type": "execute_result"
    }
   ],
   "source": [
    "np.arange(5)      "
   ]
  },
  {
   "cell_type": "markdown",
   "metadata": {},
   "source": [
    "## Copy images to the write sub directory for each class\n",
    "\n",
    "A ratio of (2/3, 1/6,1/6) is used to seperate images for each class except for **unknown** class which uses (0.5,0.5) for validation, test"
   ]
  },
  {
   "cell_type": "code",
   "execution_count": 8,
   "metadata": {},
   "outputs": [],
   "source": [
    "#generate sample train, validate and test for each class and copy to folder\n",
    "def copy_sample(classname,images):\n",
    "    imgs_count=len(images) #number of images\n",
    "    \n",
    "    #index for each directory type\n",
    "    val_idx=[]\n",
    "    train_idx=[]\n",
    "    test_idx=[]\n",
    "    if(classname==\"Unknown\"):\n",
    "\n",
    "        test_idx = np.arange(imgs_count) #numpy array from 0 to imgs_count-1\n",
    "        \n",
    "    else:\n",
    "        rng=np.random.default_rng() #for reproducibility\n",
    "        random_idx = rng.choice(imgs_count, size=imgs_count, replace=False) # returns a numpy array, shuffles the index based on number of images\n",
    "        #print(len(random_idx))\n",
    "        #divide index by ratio 0.7,0.2,0.1  for train, test, validation except 0.5,0.5, test and validation for class Unkown\n",
    "\n",
    "        val=(imgs_count//10)*2\n",
    "        test=(imgs_count//10)\n",
    "        #print(val,test,val+test,imgs_count-(val+test))\n",
    "        val_idx = random_idx[:val]\n",
    "        test_idx = random_idx[val:(val+test)]\n",
    "        train_idx = random_idx[(val+test):]\n",
    "        print(\"Index length {} {} {} for train validation and test\".format(len(train_idx),len(val_idx),len(test_idx)))\n",
    "        \n",
    "        \n",
    "    #copy images dir_category=[dest_dir+'train/',dest_dir+'test/',dest_dir+'validation/']\n",
    "    num_train=copy_images(src_dir,\"/\".join([dest_dir,\"train\",classname]),\n",
    "                          np.take(images,train_idx),overwrite_flag=False)\n",
    "    num_val=copy_images(src_dir,\"/\".join([dest_dir,\"validation\",classname]),\n",
    "                        np.take(images,val_idx),overwrite_flag=False)\n",
    "    num_test=copy_images(src_dir,\"/\".join([dest_dir,\"test\",classname]),\n",
    "                         np.take(images,test_idx),overwrite_flag=False)\n",
    "    #prepare a list for number of images copied per sun-directory\n",
    "    num_per_cat={\"train\":num_train,\"val\":num_val,\"test\":num_test}\n",
    "    \n",
    "    print(\"{} {} images of copied for training\".format(num_train,classname))\n",
    "    print(\"{} {} images of copied for validating\".format(num_val,classname))\n",
    "    print(\"{} {} images of copied for testing\".format(num_test,classname))\n",
    "    \n",
    "    return(num_per_cat) #return number of images per catagory"
   ]
  },
  {
   "cell_type": "code",
   "execution_count": 9,
   "metadata": {},
   "outputs": [
    {
     "name": "stdout",
     "output_type": "stream",
     "text": [
      "Index length 5932 1694 847 for train validation and test\n",
      "5932 Malignant images of copied for training\n",
      "1694 Malignant images of copied for validating\n",
      "847 Malignant images of copied for testing\n",
      "Index length 9014 2574 1287 for train validation and test\n",
      "9014 Benign images of copied for training\n",
      "2574 Benign images of copied for validating\n",
      "1287 Benign images of copied for testing\n",
      "0 Unknown images of copied for training\n",
      "0 Unknown images of copied for validating\n",
      "3983 Unknown images of copied for testing\n"
     ]
    }
   ],
   "source": [
    "#seperate test\n",
    "# unknown_val=np.take(unknown,sample_val_idx) #validation images\n",
    "\n",
    "#copy images\n",
    "m = copy_sample(\"Malignant\",malignant)\n",
    "b = copy_sample(\"Benign\",benign)\n",
    "u = copy_sample(\"Unknown\",unknown)\n",
    "\n",
    "# copy_images(src_dir,dest_dirs[0],malignant,overwrite_flag=False)"
   ]
  },
  {
   "cell_type": "code",
   "execution_count": 10,
   "metadata": {},
   "outputs": [
    {
     "name": "stdout",
     "output_type": "stream",
     "text": [
      "[9014, 2574, 1287]\n"
     ]
    }
   ],
   "source": [
    "print(list(b.values()))"
   ]
  },
  {
   "cell_type": "markdown",
   "metadata": {},
   "source": [
    "### Confirm that images are copied correctly"
   ]
  },
  {
   "cell_type": "code",
   "execution_count": 11,
   "metadata": {},
   "outputs": [],
   "source": [
    "data_dir_train = pathlib.Path(\"/home/evelynanyebe/.keras/datasets/isic_2019/train\")\n",
    "data_dir_val = pathlib.Path(\"/home/evelynanyebe/.keras/datasets/isic_2019/validation\")\n",
    "data_dir_test = pathlib.Path(\"/home/evelynanyebe/.keras/datasets/isic_2019/test\")"
   ]
  },
  {
   "cell_type": "code",
   "execution_count": 12,
   "metadata": {},
   "outputs": [
    {
     "name": "stdout",
     "output_type": "stream",
     "text": [
      "14946 , 6117 , 4268 for training, test, validation\n"
     ]
    }
   ],
   "source": [
    "#all images in the folder\n",
    "imgs_train = len(list(data_dir_train.glob('*/*.jpg')))\n",
    "imgs_test = len(list(data_dir_test.glob('*/*.jpg')))\n",
    "imgs_val = len(list(data_dir_val.glob('*/*.jpg')))\n",
    "\n",
    "print(\"{} , {} , {} for training, test, validation\".format(imgs_train, imgs_test,imgs_val))"
   ]
  },
  {
   "cell_type": "markdown",
   "metadata": {},
   "source": [
    "### Plot folder structure"
   ]
  },
  {
   "cell_type": "code",
   "execution_count": 13,
   "metadata": {},
   "outputs": [
    {
     "data": {
      "text/plain": [
       "['Benign', 'Malignant', 'Unknown']"
      ]
     },
     "execution_count": 13,
     "metadata": {},
     "output_type": "execute_result"
    }
   ],
   "source": [
    "class_names"
   ]
  },
  {
   "cell_type": "code",
   "execution_count": 14,
   "metadata": {},
   "outputs": [
    {
     "data": {
      "text/plain": [
       "array([[9014, 2574, 1287],\n",
       "       [5932, 1694,  847],\n",
       "       [   0,    0, 3983]])"
      ]
     },
     "execution_count": 14,
     "metadata": {},
     "output_type": "execute_result"
    }
   ],
   "source": [
    "x=np.arange(3) #label locations\n",
    "\n",
    "data = np.array([list(b.values()),list(m.values()),list(u.values())])\n",
    "\n",
    "totals=sum(data)\n",
    "\n",
    "percentage_per_class=((data/totals)*100).round(2)\n",
    "data"
   ]
  },
  {
   "cell_type": "code",
   "execution_count": 15,
   "metadata": {},
   "outputs": [
    {
     "data": {
      "image/png": "[encoded data removed]",
      "text/plain": [
       "<Figure size 720x432 with 1 Axes>"
      ]
     },
     "metadata": {
      "needs_background": "light"
     },
     "output_type": "display_data"
    }
   ],
   "source": [
    "fig, ax = plt.subplots()\n",
    "\n",
    "#Bar plot for each class\n",
    "width = 0.35/3 # width of bars\n",
    "\n",
    "rects1 = ax.bar(x + width, data[:,0], width, label=\"Train\")\n",
    "rects2 = ax.bar(x + 2*width, data[:,1], width, label=\"Validation\")\n",
    "rects3 = ax.bar(x + 3*width, data[:,2], width, label=\"Test\")\n",
    "\n",
    "# Add some text for labels, title and custom x-axis tick labels, etc.\n",
    "ax.set_ylabel('Number of Images')\n",
    "ax.set_title('Number of images in directory tree created')\n",
    "ax.set_xticks(x+(2*width))\n",
    "ax.set_xticklabels([\"Benign\",\"Malignant\",\"Unknown\"])\n",
    "ax.legend()\n",
    "\n",
    "\n",
    "def autolabel(rects,axes):\n",
    "    \"\"\"Attach a text label above each bar in *rects*, displaying its height.\"\"\"\n",
    "    for rect in rects:\n",
    "        height = rect.get_height()\n",
    "        axes.annotate('{}'.format(height),\n",
    "                    xy=(rect.get_x() + rect.get_width() / 2, height),\n",
    "                    xytext=(0, 3),  # 3 points vertical offset\n",
    "                    textcoords=\"offset points\",\n",
    "                    ha='center', va='bottom')\n",
    "\n",
    "\n",
    "autolabel(rects1,ax)\n",
    "autolabel(rects2,ax)\n",
    "autolabel(rects3,ax)\n",
    "\n",
    "fig.set_size_inches(10,6)\n",
    "fig.tight_layout()\n",
    "\n",
    "plt.show()"
   ]
  },
  {
   "cell_type": "code",
   "execution_count": null,
   "metadata": {},
   "outputs": [],
   "source": []
  }
 ],
 "metadata": {
  "kernelspec": {
   "display_name": "Python 3",
   "language": "python",
   "name": "python3"
  },
  "language_info": {
   "codemirror_mode": {
    "name": "ipython",
    "version": 3
   },
   "file_extension": ".py",
   "mimetype": "text/x-python",
   "name": "python",
   "nbconvert_exporter": "python",
   "pygments_lexer": "ipython3",
   "version": "3.6.9"
  }
 },
 "nbformat": 4,
 "nbformat_minor": 4
}
